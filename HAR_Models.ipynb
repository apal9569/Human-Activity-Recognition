{
  "nbformat": 4,
  "nbformat_minor": 0,
  "metadata": {
    "colab": {
      "name": "HAR Models.ipynb",
      "version": "0.3.2",
      "provenance": [],
      "include_colab_link": true
    },
    "kernelspec": {
      "name": "python3",
      "display_name": "Python 3"
    },
    "accelerator": "GPU"
  },
  "cells": [
    {
      "cell_type": "markdown",
      "metadata": {
        "id": "view-in-github",
        "colab_type": "text"
      },
      "source": [
        "<a href=\"https://colab.research.google.com/github/apal9569/Human-Activity-Recognition/blob/master/HAR_Models.ipynb\" target=\"_parent\"><img src=\"https://colab.research.google.com/assets/colab-badge.svg\" alt=\"Open In Colab\"/></a>"
      ]
    },
    {
      "cell_type": "code",
      "metadata": {
        "id": "t49Pfd4JuwNE",
        "colab_type": "code",
        "outputId": "dfad0a40-8702-4502-e9e4-b448a2e8b08f",
        "colab": {
          "base_uri": "https://localhost:8080/",
          "height": 124
        }
      },
      "source": [
        "from google.colab import drive\n",
        "drive.mount('/content/gdrive')"
      ],
      "execution_count": 1,
      "outputs": [
        {
          "output_type": "stream",
          "text": [
            "Go to this URL in a browser: https://accounts.google.com/o/oauth2/auth?client_id=947318989803-6bn6qk8qdgf4n4g3pfee6491hc0brc4i.apps.googleusercontent.com&redirect_uri=urn%3Aietf%3Awg%3Aoauth%3A2.0%3Aoob&scope=email%20https%3A%2F%2Fwww.googleapis.com%2Fauth%2Fdocs.test%20https%3A%2F%2Fwww.googleapis.com%2Fauth%2Fdrive%20https%3A%2F%2Fwww.googleapis.com%2Fauth%2Fdrive.photos.readonly%20https%3A%2F%2Fwww.googleapis.com%2Fauth%2Fpeopleapi.readonly&response_type=code\n",
            "\n",
            "Enter your authorization code:\n",
            "··········\n",
            "Mounted at /content/gdrive\n"
          ],
          "name": "stdout"
        }
      ]
    },
    {
      "cell_type": "code",
      "metadata": {
        "id": "sn1JYc1v8q6J",
        "colab_type": "code",
        "colab": {
          "base_uri": "https://localhost:8080/",
          "height": 34
        },
        "outputId": "9560f703-647b-43e3-b90f-724ce2e214d9"
      },
      "source": [
        "cd drive/My Drive"
      ],
      "execution_count": 45,
      "outputs": [
        {
          "output_type": "stream",
          "text": [
            "/content/drive/My Drive\n"
          ],
          "name": "stdout"
        }
      ]
    },
    {
      "cell_type": "code",
      "metadata": {
        "id": "vE8nXflR5NZj",
        "colab_type": "code",
        "outputId": "b37cb772-3b6a-42ed-8de6-23accedffbc2",
        "colab": {
          "base_uri": "https://localhost:8080/",
          "height": 204
        }
      },
      "source": [
        "!wget http://www.shl-dataset.org/wp-content/uploads/SHLChallenge2019/challenge-2019-train_hips.zip"
      ],
      "execution_count": 0,
      "outputs": [
        {
          "output_type": "stream",
          "text": [
            "--2019-06-17 05:24:48--  http://www.shl-dataset.org/wp-content/uploads/SHLChallenge2019/challenge-2019-train_hips.zip\n",
            "Resolving www.shl-dataset.org (www.shl-dataset.org)... 37.187.125.22\n",
            "Connecting to www.shl-dataset.org (www.shl-dataset.org)|37.187.125.22|:80... connected.\n",
            "HTTP request sent, awaiting response... 200 OK\n",
            "Length: 5871677913 (5.5G) [application/zip]\n",
            "Saving to: ‘challenge-2019-train_hips.zip’\n",
            "\n",
            "challenge-2019-trai 100%[===================>]   5.47G  11.2MB/s    in 8m 23s  \n",
            "\n",
            "2019-06-17 05:33:13 (11.1 MB/s) - ‘challenge-2019-train_hips.zip’ saved [5871677913/5871677913]\n",
            "\n"
          ],
          "name": "stdout"
        }
      ]
    },
    {
      "cell_type": "code",
      "metadata": {
        "id": "ku2_Oaue8CBB",
        "colab_type": "code",
        "outputId": "a2af0b58-3c1c-4d6d-8994-cf2cd980e564",
        "colab": {
          "base_uri": "https://localhost:8080/",
          "height": 204
        }
      },
      "source": [
        "!wget http://www.shl-dataset.org/wp-content/uploads/SHLChallenge2019/challenge-2019-validate_all.zip"
      ],
      "execution_count": 0,
      "outputs": [
        {
          "output_type": "stream",
          "text": [
            "--2019-06-17 05:39:39--  http://www.shl-dataset.org/wp-content/uploads/SHLChallenge2019/challenge-2019-validate_all.zip\n",
            "Resolving www.shl-dataset.org (www.shl-dataset.org)... 37.187.125.22\n",
            "Connecting to www.shl-dataset.org (www.shl-dataset.org)|37.187.125.22|:80... connected.\n",
            "HTTP request sent, awaiting response... 200 OK\n",
            "Length: 1487714593 (1.4G) [application/zip]\n",
            "Saving to: ‘challenge-2019-validate_all.zip’\n",
            "\n",
            "challenge-2019-vali 100%[===================>]   1.38G  11.2MB/s    in 2m 10s  \n",
            "\n",
            "2019-06-17 05:41:50 (10.9 MB/s) - ‘challenge-2019-validate_all.zip’ saved [1487714593/1487714593]\n",
            "\n"
          ],
          "name": "stdout"
        }
      ]
    },
    {
      "cell_type": "code",
      "metadata": {
        "id": "V0mx8qWH7GWi",
        "colab_type": "code",
        "colab": {}
      },
      "source": [
        "!unzip challenge-2019-train_hips.zip"
      ],
      "execution_count": 0,
      "outputs": []
    },
    {
      "cell_type": "code",
      "metadata": {
        "id": "V8QTtM2c9HMM",
        "colab_type": "code",
        "colab": {}
      },
      "source": [
        "!unzip challenge-2019-validate_all.zip"
      ],
      "execution_count": 0,
      "outputs": []
    },
    {
      "cell_type": "code",
      "metadata": {
        "id": "eWc7OwWmwo9Q",
        "colab_type": "code",
        "colab": {}
      },
      "source": [
        "import pandas as pd\n",
        "import numpy as np\n",
        "def read_data(data):\n",
        "  data=np.array(data)\n",
        "  return pd.DataFrame(data[:,1:])"
      ],
      "execution_count": 0,
      "outputs": []
    },
    {
      "cell_type": "code",
      "metadata": {
        "id": "pjvwNsfBdyTF",
        "colab_type": "code",
        "colab": {}
      },
      "source": [
        "def defining(data):\n",
        "  n,m=data.shape\n",
        "  data=np.array(data)\n",
        "  data=pd.DataFrame(data[:n-1,:])\n",
        "  return data"
      ],
      "execution_count": 0,
      "outputs": []
    },
    {
      "cell_type": "code",
      "metadata": {
        "id": "UYD_eTvoxGHE",
        "colab_type": "code",
        "colab": {
          "base_uri": "https://localhost:8080/",
          "height": 52
        },
        "outputId": "a622a1e0-3bbf-4840-8683-cdc8aea5299c"
      },
      "source": [
        "accX=pd.read_csv('intern/accX.csv')\n",
        "accX=read_data(accX)\n",
        "accX=defining(accX)\n",
        "accX_val=pd.read_csv('intern/accX_val.csv')\n",
        "accX_val=read_data(accX_val)\n",
        "accX_val=defining(accX_val)\n",
        "\n",
        "accY=pd.read_csv('intern/accY.csv')\n",
        "accY=read_data(accY)\n",
        "accY=defining(accY)\n",
        "accY_val=pd.read_csv('intern/accY_val.csv')\n",
        "accY_val=read_data(accY_val)\n",
        "accY_val=defining(accY_val)\n",
        "\n",
        "accZ=pd.read_csv('intern/accZ.csv')\n",
        "accZ=read_data(accZ)\n",
        "accZ=defining(accZ)\n",
        "accZ_val=pd.read_csv('intern/accZ_val.csv')\n",
        "accZ_val=read_data(accZ_val)\n",
        "accZ_val=defining(accZ_val)\n"
      ],
      "execution_count": 58,
      "outputs": [
        {
          "output_type": "stream",
          "text": [
            "(12177, 50)\n",
            "(12176, 50)\n"
          ],
          "name": "stdout"
        }
      ]
    },
    {
      "cell_type": "code",
      "metadata": {
        "id": "OFhu2ZcO4rrc",
        "colab_type": "code",
        "colab": {}
      },
      "source": [
        "accX1=pd.read_csv('acc_x.csv')\n",
        "accX1=read_data(accX1)\n",
        "accX1_val=pd.read_csv('acc_xval.csv')\n",
        "accX1_val=read_data(accX1_val)\n",
        "\n",
        "accY1=pd.read_csv('acc_y.csv')\n",
        "accY1=read_data(accY1)\n",
        "accY1_val=pd.read_csv('acc_yval.csv')\n",
        "accY1_val=read_data(accY1_val)\n",
        "\n",
        "accZ1=pd.read_csv('acc_z.csv')\n",
        "accZ1=read_data(accZ1)\n",
        "accZ1_val=pd.read_csv('acc_zval.csv')\n",
        "accZ1_val=read_data(accZ1_val)"
      ],
      "execution_count": 0,
      "outputs": []
    },
    {
      "cell_type": "code",
      "metadata": {
        "id": "FjfQMNFg5Hxv",
        "colab_type": "code",
        "outputId": "a004f4ef-fd4c-45a7-e926-8f09e02200b8",
        "colab": {
          "base_uri": "https://localhost:8080/",
          "height": 119
        }
      },
      "source": [
        "accX=np.concatenate([accX,accX1],axis=1)\n",
        "accX_val=np.concatenate([accX_val,accX1_val],axis=1)\n",
        "accY=np.concatenate([accY,accY1],axis=1)\n",
        "accY_val=np.concatenate([accY_val,accY1_val],axis=1)\n",
        "accZ=np.concatenate([accZ,accZ1],axis=1)\n",
        "accZ_val=np.concatenate([accZ_val,accZ1_val],axis=1)\n",
        "accX.shape,accX_val.shape,accY1.shape,accY1_val.shape,accZ1.shape,accZ1_val.shape"
      ],
      "execution_count": 0,
      "outputs": [
        {
          "output_type": "execute_result",
          "data": {
            "text/plain": [
              "((196072, 20),\n",
              " (12177, 20),\n",
              " (196072, 20),\n",
              " (12177, 20),\n",
              " (196072, 20),\n",
              " (12177, 20))"
            ]
          },
          "metadata": {
            "tags": []
          },
          "execution_count": 32
        }
      ]
    },
    {
      "cell_type": "code",
      "metadata": {
        "id": "5Egj4Gu8hoLV",
        "colab_type": "code",
        "colab": {}
      },
      "source": [
        "mag_acc=np.add(np.square(accX),np.square(accY))#,np.square(acc_z))\n",
        "mag_acc=np.sqrt(np.add(mag_acc,np.square(accX)))\n",
        "\n",
        "mag_accval=np.add(np.square(accX_val),np.square(accY_val))#,np.square(acc_z))\n",
        "mag_accval=np.sqrt(np.add(mag_accval,np.square(accX_val)))\n"
      ],
      "execution_count": 0,
      "outputs": []
    },
    {
      "cell_type": "code",
      "metadata": {
        "id": "cN8XiKE-xEmk",
        "colab_type": "code",
        "outputId": "7c719df5-8cc4-4476-9eb3-b2f0d8e54186",
        "colab": {
          "base_uri": "https://localhost:8080/",
          "height": 121
        }
      },
      "source": [
        "accX.shape,accX_val.shape,accY.shape,accY_val.shape,accZ.shape,accZ_val.shape"
      ],
      "execution_count": 60,
      "outputs": [
        {
          "output_type": "execute_result",
          "data": {
            "text/plain": [
              "((196071, 50),\n",
              " (12176, 50),\n",
              " (196071, 50),\n",
              " (12176, 50),\n",
              " (196071, 50),\n",
              " (12176, 50))"
            ]
          },
          "metadata": {
            "tags": []
          },
          "execution_count": 60
        }
      ]
    },
    {
      "cell_type": "code",
      "metadata": {
        "colab_type": "code",
        "id": "d-3Zg33f0PNL",
        "colab": {}
      },
      "source": [
        "gyrX=pd.read_csv('intern/gyrX.csv')\n",
        "gyrX=read_data(gyrX)\n",
        "gyrX=defining(gyrX)\n",
        "gyrX_val=pd.read_csv('intern/gyrX_val.csv')\n",
        "gyrX_val=read_data(gyrX_val)\n",
        "gyrX_val=defining(gyrX_val)\n",
        "\n",
        "gyrY=pd.read_csv('intern/gyrY.csv')\n",
        "gyrY=read_data(gyrY)\n",
        "gyrY=defining(gyrY)\n",
        "gyrY_val=pd.read_csv('intern/gyrY_val.csv')\n",
        "gyrY_val=read_data(gyrY_val)\n",
        "gyrY_val=defining(gyrY_val)\n",
        "\n",
        "gyrZ=pd.read_csv('intern/gyrZ.csv')\n",
        "gyrZ=read_data(gyrZ)\n",
        "gyrZ=defining(gyrZ)\n",
        "gyrZ_val=pd.read_csv('intern/gyrZ_val.csv')\n",
        "gyrZ_val=read_data(gyrZ_val)\n",
        "gyrZ_val=defining(gyrZ_val)\n"
      ],
      "execution_count": 0,
      "outputs": []
    },
    {
      "cell_type": "code",
      "metadata": {
        "id": "MYl3otgc9VxX",
        "colab_type": "code",
        "colab": {
          "base_uri": "https://localhost:8080/",
          "height": 121
        },
        "outputId": "5c5f2022-3a7a-4c0e-d23b-380f63982070"
      },
      "source": [
        "gyrX.shape,gyrX_val.shape,gyrY.shape,gyrY_val.shape,gyrZ.shape,gyrZ_val.shape"
      ],
      "execution_count": 67,
      "outputs": [
        {
          "output_type": "execute_result",
          "data": {
            "text/plain": [
              "((196071, 50),\n",
              " (12176, 50),\n",
              " (196071, 50),\n",
              " (12176, 50),\n",
              " (196071, 50),\n",
              " (12176, 50))"
            ]
          },
          "metadata": {
            "tags": []
          },
          "execution_count": 67
        }
      ]
    },
    {
      "cell_type": "code",
      "metadata": {
        "id": "iHbzmV-slqk4",
        "colab_type": "code",
        "colab": {}
      },
      "source": [
        "mag_gyr=np.add(np.square(gyrX),np.square(gyrY))#,np.square(acc_z))\n",
        "mag_gyr=np.sqrt(np.add(mag_gyr,np.square(gyrZ)))\n",
        "\n",
        "mag_gyrval=np.add(np.square(gyrX_val),np.square(gyrY_val))#,np.square(acc_z))\n",
        "mag_gyrval=np.sqrt(np.add(mag_gyrval,np.square(gyrZ_val)))"
      ],
      "execution_count": 0,
      "outputs": []
    },
    {
      "cell_type": "code",
      "metadata": {
        "colab_type": "code",
        "id": "RZriL0oM0oNW",
        "colab": {}
      },
      "source": [
        "laccX=pd.read_csv('intern/laccX.csv')\n",
        "laccX=read_data(laccX)\n",
        "laccX=defining(laccX)\n",
        "\n",
        "laccX_val=pd.read_csv('intern/laccX_val.csv')\n",
        "laccX_val=read_data(laccX_val)\n",
        "#laccX_val=defining(laccX_val)\n",
        "\n",
        "laccY=pd.read_csv('intern/laccY.csv')\n",
        "laccY=read_data(laccY)\n",
        "laccY_val=pd.read_csv('intern/laccY_val.csv')\n",
        "laccY_val=read_data(laccY_val)\n",
        "\n",
        "laccZ=pd.read_csv('intern/laccZ.csv')\n",
        "laccZ=read_data(laccZ)\n",
        "laccZ_val=pd.read_csv('intern/laccZ_val.csv')\n",
        "laccZ_val=read_data(laccZ_val)"
      ],
      "execution_count": 0,
      "outputs": []
    },
    {
      "cell_type": "code",
      "metadata": {
        "id": "7gh_BvleqeCk",
        "colab_type": "code",
        "colab": {}
      },
      "source": [
        "mag_lacc=np.add(np.square(laccX),np.square(laccY))\n",
        "mag_lacc=np.sqrt(np.add(mag_lacc,np.square(laccX)))\n",
        "\n",
        "mag_laccval=np.add(np.square(laccX_val),np.square(laccY_val))\n",
        "mag_laccval=np.sqrt(np.add(mag_laccval,np.square(laccX_val)))\n"
      ],
      "execution_count": 0,
      "outputs": []
    },
    {
      "cell_type": "code",
      "metadata": {
        "id": "1Mxqs9kfrpzD",
        "colab_type": "code",
        "outputId": "f2bb584d-3508-4922-c477-80e16a1dfe18",
        "colab": {
          "base_uri": "https://localhost:8080/",
          "height": 34
        }
      },
      "source": [
        "laccX_val.shape,laccX.shape,laccY.shape,laccZ.shape"
      ],
      "execution_count": 74,
      "outputs": [
        {
          "output_type": "execute_result",
          "data": {
            "text/plain": [
              "((12176, 75), (196071, 75), (196071, 75), (196071, 75))"
            ]
          },
          "metadata": {
            "tags": []
          },
          "execution_count": 74
        }
      ]
    },
    {
      "cell_type": "code",
      "metadata": {
        "colab_type": "code",
        "id": "sA0xBswr02Vm",
        "colab": {}
      },
      "source": [
        "magX=pd.read_csv('intern/magX.csv')\n",
        "magX=read_data(magX)\n",
        "magX=defining(magX)\n",
        "magX_val=pd.read_csv('intern/magX_val.csv')\n",
        "magX_val=read_data(magX_val)\n",
        "magX_val=defining(magX_val)\n",
        "\n",
        "magY=pd.read_csv('intern/magY.csv')\n",
        "magY=read_data(magY)\n",
        "magY=defining(magY)\n",
        "magY_val=pd.read_csv('intern/magY_val.csv')\n",
        "magY_val=read_data(magY_val)\n",
        "magY_val=defining(magY_val)\n",
        "\n",
        "magZ=pd.read_csv('intern/magZ.csv')\n",
        "magZ=read_data(magZ)\n",
        "magZ=defining(magZ)\n",
        "magZ_val=pd.read_csv('intern/magZ_val.csv')\n",
        "magZ_val=read_data(magZ_val)\n",
        "magZ_val=defining(magZ_val)\n"
      ],
      "execution_count": 0,
      "outputs": []
    },
    {
      "cell_type": "code",
      "metadata": {
        "id": "KQldXaPtskVD",
        "colab_type": "code",
        "colab": {}
      },
      "source": [
        "mag_mag=np.add(np.square(magX),np.square(magY))#,np.square(acc_z))\n",
        "mag_mag=np.sqrt(np.add(mag_mag,np.square(magZ)))\n",
        "\n",
        "mag_magval=np.add(np.square(magX_val),np.square(magY_val))#,np.square(acc_z))\n",
        "mag_magval=np.sqrt(np.add(mag_magval,np.square(magZ_val)))"
      ],
      "execution_count": 0,
      "outputs": []
    },
    {
      "cell_type": "code",
      "metadata": {
        "id": "-OLAKOFI9omk",
        "colab_type": "code",
        "colab": {
          "base_uri": "https://localhost:8080/",
          "height": 34
        },
        "outputId": "a76da2a8-92fe-4327-e25a-03783584bb57"
      },
      "source": [
        "magX.shape,magX_val.shape,magY.shape,magY_val.shape,magZ.shape,magZ_val.shape"
      ],
      "execution_count": 78,
      "outputs": [
        {
          "output_type": "execute_result",
          "data": {
            "text/plain": [
              "((196071, 1), (12176, 1), (196071, 1), (12176, 1), (196071, 1), (12176, 1))"
            ]
          },
          "metadata": {
            "tags": []
          },
          "execution_count": 78
        }
      ]
    },
    {
      "cell_type": "code",
      "metadata": {
        "colab_type": "code",
        "id": "WZ1IauXz1Td2",
        "colab": {}
      },
      "source": [
        "pitch=pd.read_csv('intern/pitch_imp.csv')\n",
        "pitch=read_data(pitch)\n",
        "pitch=defining(pitch)\n",
        "pitch_val=pd.read_csv('intern/pitch_val_imp.csv')\n",
        "pitch_val=read_data(pitch_val)\n",
        "pitch_val=defining(pitch_val)\n",
        "\n",
        "yaw=pd.read_csv('intern/yaw.csv')\n",
        "yaw=read_data(yaw)\n",
        "yaw=defining(yaw)\n",
        "yaw_val=pd.read_csv('intern/yaw_val.csv')\n",
        "yaw_val=read_data(yaw_val)\n",
        "yaw_val=defining(yaw_val)\n",
        "\n",
        "roll=pd.read_csv('intern/roll.csv')\n",
        "roll=read_data(roll)\n",
        "roll=defining(roll)\n",
        "roll_val=pd.read_csv('intern/roll_val.csv')\n",
        "roll_val=read_data(roll_val)\n",
        "roll_val=defining(roll_val)\n"
      ],
      "execution_count": 0,
      "outputs": []
    },
    {
      "cell_type": "code",
      "metadata": {
        "id": "QSu5XOiUhcrN",
        "colab_type": "code",
        "colab": {
          "base_uri": "https://localhost:8080/",
          "height": 34
        },
        "outputId": "fe2910cd-ac6a-42da-a172-7ee365c41197"
      },
      "source": [
        "pitch.shape,yaw.shape,roll.shape"
      ],
      "execution_count": 84,
      "outputs": [
        {
          "output_type": "execute_result",
          "data": {
            "text/plain": [
              "((196071, 50), (196071, 4), (196071, 1))"
            ]
          },
          "metadata": {
            "tags": []
          },
          "execution_count": 84
        }
      ]
    },
    {
      "cell_type": "code",
      "metadata": {
        "colab_type": "code",
        "id": "B7PYKIAs2JZZ",
        "colab": {}
      },
      "source": [
        "graX=pd.read_csv('intern/gra_x.csv')\n",
        "graX=read_data(graX)\n",
        "graX_val=pd.read_csv('intern/gra_xval.csv')\n",
        "graX_val=read_data(graX_val)\n",
        "\n",
        "graY=pd.read_csv('intern/gra_y.csv')\n",
        "graY=read_data(graY)\n",
        "graY_val=pd.read_csv('intern/gra_yval.csv')\n",
        "graY_val=read_data(graY_val)\n",
        "\n",
        "graZ=pd.read_csv('intern/gra_z.csv')\n",
        "graZ=read_data(graZ)\n",
        "graZ_val=pd.read_csv('intern/gra_zval.csv')\n",
        "graZ_val=read_data(graZ_val)"
      ],
      "execution_count": 0,
      "outputs": []
    },
    {
      "cell_type": "code",
      "metadata": {
        "id": "ojlKaNys0Iof",
        "colab_type": "code",
        "colab": {}
      },
      "source": [
        "mag_gra=np.add(np.square(graX),np.square(graZ))#,np.square(acc_z))\n",
        "mag_gra=np.sqrt(np.add(mag_gra,np.square(graZ)))\n",
        "\n",
        "mag_graval=np.add(np.square(graX_val),np.square(graY_val))#,np.square(acc_z))\n",
        "mag_graval=np.sqrt(np.add(mag_graval,np.square(graZ_val)))"
      ],
      "execution_count": 0,
      "outputs": []
    },
    {
      "cell_type": "code",
      "metadata": {
        "id": "9CbB2i9uzNwf",
        "colab_type": "code",
        "outputId": "ed1071e2-9a88-479a-a7be-1564ed108930",
        "colab": {
          "base_uri": "https://localhost:8080/",
          "height": 34
        }
      },
      "source": [
        "graX.shape,graX_val.shape,graY_val.shape,graZ_val.shape"
      ],
      "execution_count": 88,
      "outputs": [
        {
          "output_type": "execute_result",
          "data": {
            "text/plain": [
              "((196071, 1), (12176, 1), (12176, 1), (12176, 1))"
            ]
          },
          "metadata": {
            "tags": []
          },
          "execution_count": 88
        }
      ]
    },
    {
      "cell_type": "code",
      "metadata": {
        "colab_type": "code",
        "id": "qN1lOguv2xz9",
        "colab": {}
      },
      "source": [
        "oriX=pd.read_csv('intern2/ori_x.csv')\n",
        "oriX=read_data(oriX)\n",
        "oriX=defining(oriX)\n",
        "oriX_val=pd.read_csv('intern2/ori_xval.csv')\n",
        "oriX_val=read_data(oriX_val)\n",
        "oriX_val=defining(oriX_val)\n",
        "\n",
        "oriY=pd.read_csv('intern2/ori_y.csv')\n",
        "oriY=read_data(oriY)\n",
        "oriY=defining(oriY)\n",
        "oriY_val=pd.read_csv('intern2/ori_yval.csv')\n",
        "oriY_val=read_data(oriY_val)\n",
        "oriY_val=defining(oriY_val)\n",
        "\n",
        "oriZ=pd.read_csv('intern2/ori_z.csv')\n",
        "oriZ=read_data(oriZ)\n",
        "oriZ=defining(oriZ)\n",
        "oriZ_val=pd.read_csv('intern2/ori_zval.csv')\n",
        "oriZ_val=read_data(oriZ_val)\n",
        "oriZ_val=defining(oriZ_val)\n",
        "\n",
        "oriW=pd.read_csv('intern2/ori_w.csv')\n",
        "oriW=read_data(oriW)\n",
        "oriW=defining(oriW)\n",
        "oriW_val=pd.read_csv('intern2/ori_wval.csv')\n",
        "oriW_val=read_data(oriW_val)\n",
        "oriW_val=defining(oriW_val)\n"
      ],
      "execution_count": 0,
      "outputs": []
    },
    {
      "cell_type": "code",
      "metadata": {
        "id": "Q62zA-uB96Rk",
        "colab_type": "code",
        "colab": {
          "base_uri": "https://localhost:8080/",
          "height": 156
        },
        "outputId": "30d66045-4938-4331-a4de-d70403205de8"
      },
      "source": [
        "oriX.shape,oriX_val.shape,oriY.shape,oriY_val.shape,oriZ.shape,oriZ_val.shape,oriW.shape,oriW_val.shape"
      ],
      "execution_count": 90,
      "outputs": [
        {
          "output_type": "execute_result",
          "data": {
            "text/plain": [
              "((196071, 1),\n",
              " (12176, 1),\n",
              " (196071, 2),\n",
              " (12176, 2),\n",
              " (196071, 3),\n",
              " (12176, 3),\n",
              " (196071, 1),\n",
              " (12176, 1))"
            ]
          },
          "metadata": {
            "tags": []
          },
          "execution_count": 90
        }
      ]
    },
    {
      "cell_type": "code",
      "metadata": {
        "id": "GcOYrQU02b8p",
        "colab_type": "code",
        "colab": {}
      },
      "source": [
        "\n",
        "press=pd.read_csv('intern/press.csv')\n",
        "press=read_data(press)\n",
        "press_val=pd.read_csv('intern/press_val.csv')\n",
        "press_val=read_data(press_val)\n"
      ],
      "execution_count": 0,
      "outputs": []
    },
    {
      "cell_type": "code",
      "metadata": {
        "id": "-LLWaa8bikcd",
        "colab_type": "code",
        "colab": {
          "base_uri": "https://localhost:8080/",
          "height": 34
        },
        "outputId": "765e0e8d-6288-4f00-e4a8-659ea01fc958"
      },
      "source": [
        "press.shape,press_val.shape"
      ],
      "execution_count": 92,
      "outputs": [
        {
          "output_type": "execute_result",
          "data": {
            "text/plain": [
              "((196071, 1), (12176, 1))"
            ]
          },
          "metadata": {
            "tags": []
          },
          "execution_count": 92
        }
      ]
    },
    {
      "cell_type": "code",
      "metadata": {
        "id": "JCzZHW4pdJAe",
        "colab_type": "code",
        "colab": {
          "base_uri": "https://localhost:8080/",
          "height": 34
        },
        "outputId": "deb9e74a-89bb-4bf4-ad96-75f545c69bb5"
      },
      "source": [
        "cd .."
      ],
      "execution_count": 106,
      "outputs": [
        {
          "output_type": "stream",
          "text": [
            "/content\n"
          ],
          "name": "stdout"
        }
      ]
    },
    {
      "cell_type": "code",
      "metadata": {
        "id": "DcGmAepw9n1w",
        "colab_type": "code",
        "colab": {}
      },
      "source": [
        "label=pd.read_csv('train/Hips/Label.txt',header=None,delim_whitespace=True)\n",
        "label=defining(label)\n",
        "\n",
        "label_val=pd.read_csv('validate/Hips/Label.txt',header=None,delim_whitespace=True)\n",
        "label_val=defining(label_val)\n"
      ],
      "execution_count": 0,
      "outputs": []
    },
    {
      "cell_type": "code",
      "metadata": {
        "id": "IaT1jcmV9veg",
        "colab_type": "code",
        "colab": {}
      },
      "source": [
        "label=np.array(label)\n",
        "label=label[:,0]\n",
        "\n",
        "label_val=np.array(label_val)\n",
        "label_val=label_val[:,0]"
      ],
      "execution_count": 0,
      "outputs": []
    },
    {
      "cell_type": "code",
      "metadata": {
        "id": "du5GMwsfLvOi",
        "colab_type": "code",
        "outputId": "5b157a24-7819-4477-877f-4807a7227c39",
        "colab": {
          "base_uri": "https://localhost:8080/",
          "height": 139
        }
      },
      "source": [
        "train=list()\n",
        "train2=list()\n",
        "train1=list()\n",
        "train4=list()\n",
        "train5=list()\n",
        "train3=list()\n",
        "train6=list()\n",
        "\n",
        "train.append(accX)\n",
        "train.append(accY)\n",
        "\n",
        "train.append(accZ)\n",
        "train.append(mag_acc)\n",
        "\n",
        "train1=np.concatenate([pitch,oriW,yaw,oriX,roll,oriY,oriZ],axis=1)#append(acc_x)\n",
        "\n",
        "train2.append(gyrX)\n",
        "train2.append(gyrY)\n",
        "train2.append(gyrZ)\n",
        "train2.append(mag_gyr)\n",
        "\n",
        "train3.append(laccX)\n",
        "train3.append(laccY)\n",
        "train3.append(laccZ)\n",
        "train3.append(mag_lacc)\n",
        "\n",
        "train6.append(press)\n",
        "\n",
        "train4.append(graX)\n",
        "train4.append(graY)\n",
        "train4.append(graZ)\n",
        "train4.append(mag_gra)\n",
        "\n",
        "train5.append(magX)\n",
        "train5.append(magY)\n",
        "train5.append(magZ)\n",
        "train5.append(mag_mag)\n",
        "\n",
        "train=np.dstack(train)\n",
        "train2=np.dstack(train2)\n",
        "train1=np.transpose(np.dstack(train1))\n",
        "train4=np.dstack(train4)\n",
        "train5=np.dstack(train5)\n",
        "train3=np.dstack(train3)\n",
        "train6=np.dstack(train6)\n",
        "\n",
        "train3.shape,train1.shape,train.shape,train2.shape,train4.shape,train5.shape,train6.shape"
      ],
      "execution_count": 94,
      "outputs": [
        {
          "output_type": "execute_result",
          "data": {
            "text/plain": [
              "((196071, 75, 4),\n",
              " (196071, 62, 1),\n",
              " (196071, 50, 4),\n",
              " (196071, 50, 4),\n",
              " (196071, 1, 4),\n",
              " (196071, 1, 4),\n",
              " (196071, 1, 1))"
            ]
          },
          "metadata": {
            "tags": []
          },
          "execution_count": 94
        }
      ]
    },
    {
      "cell_type": "code",
      "metadata": {
        "id": "ECATM6BqMD1V",
        "colab_type": "code",
        "colab": {
          "base_uri": "https://localhost:8080/",
          "height": 34
        },
        "outputId": "b6f3644b-fa66-44f8-d020-3647e047579d"
      },
      "source": [
        "train_val=list()\n",
        "train2_val=list()\n",
        "train3_val=list()\n",
        "train4_val=list()\n",
        "train5_val=list()\n",
        "train6_val=list()\n",
        "\n",
        "train_val.append(accX_val)\n",
        "train_val.append(accY_val)\n",
        "train_val.append(accZ_val)\n",
        "train_val.append(mag_accval)\n",
        "\n",
        "train1_val=np.concatenate([pitch_val,oriW_val,roll_val,oriX_val,yaw_val,oriY_val,oriZ_val],axis=1)\n",
        "\n",
        "train2_val.append(gyrX_val)\n",
        "train2_val.append(gyrY_val)\n",
        "train2_val.append(gyrZ_val)\n",
        "train2_val.append(mag_gyrval)\n",
        "\n",
        "train3_val.append(laccX_val)\n",
        "train3_val.append(laccY_val)\n",
        "train3_val.append(laccZ_val)\n",
        "train3_val.append(mag_laccval)\n",
        "\n",
        "\n",
        "train4_val.append(graX_val)\n",
        "train4_val.append(graY_val)\n",
        "train4_val.append(graZ_val)\n",
        "train4_val.append(mag_graval)\n",
        "\n",
        "train5_val.append(magX_val)\n",
        "train5_val.append(magY_val)\n",
        "train5_val.append(magZ_val)\n",
        "train5_val.append(mag_magval)\n",
        "\n",
        "train6_val.append(press_val)\n",
        "\n",
        "train_val=np.dstack(train_val)\n",
        "train2_val=np.dstack(train2_val)\n",
        "train3_val=np.dstack(train3_val)\n",
        "train1_val=np.transpose(np.dstack(train1_val))\n",
        "train5_val=np.dstack(train5_val)\n",
        "train4_val=np.dstack(train4_val)\n",
        "train6_val=np.dstack(train6_val)\n",
        "\n",
        "print(train1_val.shape,train2_val.shape,train3_val.shape,train4_val.shape,train5_val.shape)"
      ],
      "execution_count": 97,
      "outputs": [
        {
          "output_type": "stream",
          "text": [
            "(12176, 62, 1) (12176, 50, 4) (12176, 75, 4) (12176, 1, 4) (12176, 1, 4)\n"
          ],
          "name": "stdout"
        }
      ]
    },
    {
      "cell_type": "code",
      "metadata": {
        "id": "YXHCIbE5tRq9",
        "colab_type": "code",
        "outputId": "22e03102-4fdd-4894-b6a5-5758ec5c50c0",
        "colab": {
          "base_uri": "https://localhost:8080/",
          "height": 34
        }
      },
      "source": [
        "train_val.shape"
      ],
      "execution_count": 0,
      "outputs": [
        {
          "output_type": "execute_result",
          "data": {
            "text/plain": [
              "(12177, 50, 4)"
            ]
          },
          "metadata": {
            "tags": []
          },
          "execution_count": 188
        }
      ]
    },
    {
      "cell_type": "code",
      "metadata": {
        "colab_type": "code",
        "id": "6_TUL7jH4z7r",
        "outputId": "20d83fa6-1a47-4de3-c6ae-850df5d918eb",
        "colab": {
          "base_uri": "https://localhost:8080/",
          "height": 34
        }
      },
      "source": [
        "from keras.models import Sequential\n",
        "from keras.layers import Dense\n",
        "from keras.layers import Flatten, TimeDistributed\n",
        "from keras.layers import *\n",
        "from keras.utils import to_categorical\n",
        "from matplotlib import pyplot\n",
        "from keras.optimizers import Adam\n",
        "from keras.utils import plot_model\n",
        "from keras.models import Model\n",
        "from keras.layers.pooling import MaxPooling2D\n",
        "from keras.layers.merge import concatenate\n",
        "from keras.callbacks import EarlyStopping\n",
        "from keras import regularizers"
      ],
      "execution_count": 98,
      "outputs": [
        {
          "output_type": "stream",
          "text": [
            "Using TensorFlow backend.\n"
          ],
          "name": "stderr"
        }
      ]
    },
    {
      "cell_type": "code",
      "metadata": {
        "id": "JtlYjK2i91ze",
        "colab_type": "code",
        "colab": {}
      },
      "source": [
        "label=to_categorical(label)\n",
        "label_val=to_categorical(label_val)"
      ],
      "execution_count": 0,
      "outputs": []
    },
    {
      "cell_type": "code",
      "metadata": {
        "id": "qwSDMTLfwW6L",
        "colab_type": "code",
        "outputId": "df7875d3-c5b1-40a1-b14c-786593198c56",
        "colab": {
          "base_uri": "https://localhost:8080/",
          "height": 34
        }
      },
      "source": [
        "#########################     LSTM MODEL         ##############\n",
        "acc=Input(shape=(train.shape[1],train2.shape[2]))\n",
        "\n",
        "lstm1=LSTM(50,kernel_regularizer=regularizers.l2(0.05),recurrent_regularizer=regularizers.l2(0.01))(acc)\n",
        "lstm1=Dropout(0.4)(lstm1)\n",
        "lstm1=LeakyReLU()(lstm1)\n",
        "\n",
        "ori=Input(shape=(train1.shape[1],train1.shape[2]))\n",
        "\n",
        "lstm3=LSTM(50,kernel_regularizer=regularizers.l2(0.01),recurrent_regularizer=regularizers.l2(0.01))(ori)\n",
        "lstm3=Dropout(0.4)(lstm3)\n",
        "lstm3=LeakyReLU()(lstm3)\n",
        "\n",
        "gyr=Input(shape=(train2.shape[1],train2.shape[2]))\n",
        "\n",
        "lstm2=LSTM(50,kernel_regularizer=regularizers.l2(0.01),recurrent_regularizer=regularizers.l2(0.01))(gyr)\n",
        "lstm2=Dropout(0.4)(lstm2)\n",
        "lstm2=LeakyReLU()(lstm2)\n",
        "\n",
        "\n",
        "#lacc=Input(shape=(train3.shape[1],train3.shape[2]))\n",
        "\n",
        "#lstm5=LSTM(50,kernel_regularizer=regularizers.l2(0.01),recurrent_regularizer=regularizers.l2(0.01))(lacc)\n",
        "#lstm5=Dropout(0.4)(lstm5)\n",
        "#lstm5=LeakyReLU()(lstm5)\n",
        "\n",
        "gra=Input(shape=(train4.shape[1],train4.shape[2]))\n",
        "\n",
        "lstm6=LSTM(50,kernel_regularizer=regularizers.l2(0.01),recurrent_regularizer=regularizers.l2(0.01))(gra)\n",
        "lstm6=Dropout(0.4)(lstm6)\n",
        "lstm6=LeakyReLU()(lstm6)\n",
        "\n",
        "mag=Input(shape=(train5.shape[1],train5.shape[2]))\n",
        "\n",
        "lstm4=LSTM(50,kernel_regularizer=regularizers.l2(0.01),recurrent_regularizer=regularizers.l2(0.01))(mag)\n",
        "lstm4=Dropout(0.4)(lstm4)\n",
        "lstm4=LeakyReLU()(lstm4)\n",
        "\n",
        "#pre=Input(shape=(train6.shape[1],train6.shape[2]))\n",
        "\n",
        "#lstm7=LSTM(5,kernel_regularizer=regularizers.l2(0.01),recurrent_regularizer=regularizers.l2(0.01))(pre)\n",
        "#lstm7=Dropout(0.4)(lstm7)\n",
        "#lstm7=LeakyReLU()(lstm7)\n",
        "\n",
        "combined=merge.add([lstm1,lstm6,lstm2,lstm4,lstm3])\n",
        "print(combined.shape)\n",
        "\n",
        "den1=Dense(128,activation='relu',kernel_regularizer=regularizers.l2(0.02))(combined)\n",
        "den1=Dropout(0.4)(den1)\n",
        "den1=Dense(32,activation='relu')(den1)\n",
        "den1=Dropout(0.4)(den1)\n",
        "den1=Dense(16,activation='relu')(den1)\n",
        "out=Dense(label.shape[1],activation='softmax')(den1)\n",
        "\n",
        "model1=Model(inputs=[acc,ori,gyr,gra,mag],outputs=out)\n"
      ],
      "execution_count": 115,
      "outputs": [
        {
          "output_type": "stream",
          "text": [
            "(?, 50)\n"
          ],
          "name": "stdout"
        }
      ]
    },
    {
      "cell_type": "code",
      "metadata": {
        "id": "BAeX8vwfEeUb",
        "colab_type": "code",
        "outputId": "c5124b44-0c74-4f28-8b53-c560b765b609",
        "colab": {
          "base_uri": "https://localhost:8080/",
          "height": 34
        }
      },
      "source": [
        "train.shape"
      ],
      "execution_count": 0,
      "outputs": [
        {
          "output_type": "execute_result",
          "data": {
            "text/plain": [
              "(196072, 50, 4)"
            ]
          },
          "metadata": {
            "tags": []
          },
          "execution_count": 110
        }
      ]
    },
    {
      "cell_type": "code",
      "metadata": {
        "id": "QHbL3K4n0Wd2",
        "colab_type": "code",
        "outputId": "33cb8efd-5823-4a47-ed20-c95acd42fc06",
        "colab": {
          "base_uri": "https://localhost:8080/",
          "height": 34
        }
      },
      "source": [
        "######################   CNN LSTM    ##############\n",
        "acc=Input(shape=(train.shape[1],train.shape[2]))\n",
        "conv1=SeparableConv1D(8, 1, strides=1,padding='same',kernel_regularizer=regularizers.l2(0.01))(acc)\n",
        "conv1=Dropout(0.5)(conv1)\n",
        "lstm1=LSTM(50,kernel_regularizer=regularizers.l2(0.01),recurrent_regularizer=regularizers.l2(0.01))(conv1)\n",
        "lstm1=Dropout(0.5)(lstm1)\n",
        "lstm1=LeakyReLU()(lstm1)\n",
        "\n",
        "ori=Input(shape=(train1.shape[1],train1.shape[2]))\n",
        "conv2=SeparableConv1D(4, 1,strides=1, padding='same',kernel_regularizer=regularizers.l2(0.01))(ori)\n",
        "conv2=Dropout(0.5)(conv2)\n",
        "lstm2=LSTM(10,kernel_regularizer=regularizers.l2(0.01),recurrent_regularizer=regularizers.l2(0.01))(conv2)\n",
        "lstm2=Dropout(0.4)(lstm2)\n",
        "lstm2=LeakyReLU()(lstm2)\n",
        "\n",
        "gyr=Input(shape=(train2.shape[1],train2.shape[2]))\n",
        "conv3=SeparableConv1D(8, 1,strides=1, padding='same',kernel_regularizer=regularizers.l2(0.01))(gyr)\n",
        "conv3=Dropout(0.5)(conv3)\n",
        "lstm3=LSTM(50,kernel_regularizer=regularizers.l2(0.01),recurrent_regularizer=regularizers.l2(0.01))(conv3)\n",
        "lstm3=Dropout(0.4)(lstm3)\n",
        "lstm3=LeakyReLU()(lstm3)\n",
        "\n",
        "lacc=Input(shape=(train3.shape[1],train3.shape[2]))\n",
        "conv4=SeparableConv1D(8, 1,strides=1, padding='same',kernel_regularizer=regularizers.l2(0.01))(lacc)\n",
        "conv4=Dropout(0.5)(conv4)\n",
        "\n",
        "lstm4=LSTM(50,kernel_regularizer=regularizers.l2(0.01),recurrent_regularizer=regularizers.l2(0.01))(conv4)\n",
        "lstm4=Dropout(0.4)(lstm4)\n",
        "lstm4=LeakyReLU()(lstm4)\n",
        "\n",
        "gra=Input(shape=(train4.shape[1],train4.shape[2]))\n",
        "\n",
        "conv6=SeparableConv1D(8, 1,strides=1, padding='same',kernel_regularizer=regularizers.l2(0.01))(gra)\n",
        "conv6=Dropout(0.5)(conv6)\n",
        "lstm6=LSTM(10,kernel_regularizer=regularizers.l2(0.01),recurrent_regularizer=regularizers.l2(0.01))(conv6)\n",
        "lstm6=Dropout(0.4)(lstm6)\n",
        "lstm6=LeakyReLU()(lstm6)\n",
        "\n",
        "mag=Input(shape=(train5.shape[1],train5.shape[2]))\n",
        "conv5=SeparableConv1D(16, 1,strides=1, padding='same',kernel_regularizer=regularizers.l2(0.01))(mag)\n",
        "conv5=Dropout(0.5)(conv5)\n",
        "lstm5=LSTM(10,kernel_regularizer=regularizers.l2(0.01),recurrent_regularizer=regularizers.l2(0.01))(conv5)\n",
        "lstm5=Dropout(0.4)(lstm5)\n",
        "lstm5=LeakyReLU()(lstm5)\n",
        "\n",
        "pre=Input(shape=(train6.shape[1],train6.shape[2]))\n",
        "\n",
        "conv7=SeparableConv1D(16, 1,strides=1, padding='same',kernel_regularizer=regularizers.l2(0.01))(pre)\n",
        "conv7=Dropout(0.5)(conv7)\n",
        "lstm7=LSTM(5,kernel_regularizer=regularizers.l2(0.01),recurrent_regularizer=regularizers.l2(0.01))(conv7)\n",
        "lstm7=Dropout(0.4)(lstm7)\n",
        "lstm7=LeakyReLU()(lstm7)\n",
        "\n",
        "combined=concatenate([lstm1,lstm2,lstm3,lstm4,lstm6,lstm5,lstm7])\n",
        "print(combined.shape)\n",
        "den=Dense(64,activation='relu')(combined)\n",
        "den=Dropout(0.5)(den)\n",
        "den=Dense(32,activation='relu')(den)\n",
        "den=Dropout(0.5)(den)\n",
        "out=Dense(label.shape[1],activation='softmax')(den)\n",
        "\n",
        "model4=Model(inputs=[acc,ori,gyr,lacc,gra,mag,pre],outputs=out)"
      ],
      "execution_count": 0,
      "outputs": [
        {
          "output_type": "stream",
          "text": [
            "(?, 185)\n"
          ],
          "name": "stdout"
        }
      ]
    },
    {
      "cell_type": "code",
      "metadata": {
        "id": "TZb8IUZU-AeK",
        "colab_type": "code",
        "colab": {}
      },
      "source": [
        "adam=Adam(lr=0.005,beta_1=0.95,beta_2=0.95,epsilon=0.001)\n",
        "model1.compile(loss='categorical_crossentropy',optimizer=adam,metrics=['categorical_accuracy'])\n",
        "model1.summary()\n",
        "plot_model(model1)"
      ],
      "execution_count": 0,
      "outputs": []
    },
    {
      "cell_type": "code",
      "metadata": {
        "id": "naQvBFPBIeGy",
        "colab_type": "code",
        "colab": {}
      },
      "source": [
        "adam=Adam(lr=0.01,beta_1=0.9,beta_2=0.9,epsilon=0.001)\n",
        "model4.compile(loss='categorical_crossentropy',optimizer=adam,metrics=['categorical_accuracy'])\n",
        "model4.summary()\n",
        "plot_model(model4)"
      ],
      "execution_count": 0,
      "outputs": []
    },
    {
      "cell_type": "code",
      "metadata": {
        "id": "eRFYrRlP-J9y",
        "colab_type": "code",
        "colab": {}
      },
      "source": [
        "history=model1.fit([train,train1,train2,train4,train5], label, \n",
        "                     epochs=100, batch_size=1024, verbose=1,\n",
        "                     validation_data=([train_val,train1_val,train2_val,train4_val,train5_val],label_val))"
      ],
      "execution_count": 0,
      "outputs": []
    },
    {
      "cell_type": "code",
      "metadata": {
        "id": "ZSUfXsahIZyA",
        "colab_type": "code",
        "colab": {}
      },
      "source": [
        "history=model4.fit([train,train1,train2,train3,train4,train5,train6], label, \n",
        "                    epochs=15, batch_size=1024, verbose=1,\n",
        "                    validation_data=([train_val,train1_val,train2_val,train3_val,train4_val,train5_val,train6_val],label_val))"
      ],
      "execution_count": 0,
      "outputs": []
    },
    {
      "cell_type": "code",
      "metadata": {
        "id": "g7IQAL7FEE1i",
        "colab_type": "code",
        "colab": {}
      },
      "source": [
        "history=pd.DataFrame(history.history)"
      ],
      "execution_count": 0,
      "outputs": []
    },
    {
      "cell_type": "code",
      "metadata": {
        "id": "D4iccBOlEHN3",
        "colab_type": "code",
        "colab": {}
      },
      "source": [
        "history"
      ],
      "execution_count": 0,
      "outputs": []
    },
    {
      "cell_type": "code",
      "metadata": {
        "id": "kQUZCNIYYvBl",
        "colab_type": "code",
        "colab": {}
      },
      "source": [
        "history.to_csv('history.csv',header=True)"
      ],
      "execution_count": 0,
      "outputs": []
    },
    {
      "cell_type": "code",
      "metadata": {
        "id": "FuWsEe2icW05",
        "colab_type": "code",
        "colab": {}
      },
      "source": [
        ""
      ],
      "execution_count": 0,
      "outputs": []
    },
    {
      "cell_type": "code",
      "metadata": {
        "id": "Ymqy-19GZSxC",
        "colab_type": "code",
        "colab": {}
      },
      "source": [
        "import matplotlib.pyplot as plt\n",
        "plt.plot(history['categorical_accuracy'])\n",
        "plt.plot(history['val_categorical_accuracy'])\n",
        "plt.title('model accuracy')\n",
        "plt.ylabel('accuracy')\n",
        "plt.xlabel('epoch')\n",
        "plt.legend(['train', 'test'], loc='upper left')\n",
        "#plt.show()\n",
        "plt.savefig('model_accuracy')\n",
        "# summarize history for loss\n",
        "plt.close()\n"
      ],
      "execution_count": 0,
      "outputs": []
    },
    {
      "cell_type": "code",
      "metadata": {
        "id": "klujNuNiam_F",
        "colab_type": "code",
        "colab": {
          "base_uri": "https://localhost:8080/",
          "height": 295
        },
        "outputId": "61cb97d7-94c2-44b4-d913-596566cd38a1"
      },
      "source": [
        "plt.plot(history['loss'])\n",
        "plt.plot(history['val_loss'])\n",
        "plt.title('model loss')\n",
        "plt.ylabel('loss')\n",
        "plt.xlabel('epoch')\n",
        "plt.legend(['train', 'test'], loc='upper left')\n",
        "plt.savefig('model_loss.png')\n",
        "plt.show()"
      ],
      "execution_count": 135,
      "outputs": [
        {
          "output_type": "display_data",
          "data": {
            "image/png": "[encoded data removed]",
            "text/plain": [
              "<Figure size 432x288 with 1 Axes>"
            ]
          },
          "metadata": {
            "tags": []
          }
        }
      ]
    },
    {
      "cell_type": "code",
      "metadata": {
        "id": "8Mllm3jJcaUg",
        "colab_type": "code",
        "colab": {}
      },
      "source": [
        ""
      ],
      "execution_count": 0,
      "outputs": []
    }
  ]
}